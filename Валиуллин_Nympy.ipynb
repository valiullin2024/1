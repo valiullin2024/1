{
 "cells": [
  {
   "cell_type": "markdown",
   "id": "dfdca37a",
   "metadata": {},
   "source": [
    "1. Импортируйте пакет numpy под именем np"
   ]
  },
  {
   "cell_type": "code",
   "execution_count": 2,
   "id": "f7c20b85",
   "metadata": {},
   "outputs": [],
   "source": [
    "import numpy as np"
   ]
  },
  {
   "cell_type": "markdown",
   "id": "1b0c7f2d",
   "metadata": {},
   "source": [
    "2. Распечатайте версию numpy"
   ]
  },
  {
   "cell_type": "code",
   "execution_count": 2,
   "id": "895d41c5",
   "metadata": {},
   "outputs": [
    {
     "name": "stdout",
     "output_type": "stream",
     "text": [
      "1.26.4\n"
     ]
    }
   ],
   "source": [
    "print(np.__version__)"
   ]
  },
  {
   "cell_type": "markdown",
   "id": "711ff100",
   "metadata": {},
   "source": [
    "3. Создайте вектор со значениями от 10 до 49 "
   ]
  },
  {
   "cell_type": "code",
   "execution_count": 5,
   "id": "c37e2757",
   "metadata": {},
   "outputs": [
    {
     "name": "stdout",
     "output_type": "stream",
     "text": [
      "[10 11 12 13 14 15 16 17 18 19 20 21 22 23 24 25 26 27 28 29 30 31 32 33\n",
      " 34 35 36 37 38 39 40 41 42 43 44 45 46 47 48 49]\n"
     ]
    }
   ],
   "source": [
    "vector = np.arange(10, 50, 1)\n",
    "print(vector)"
   ]
  },
  {
   "cell_type": "markdown",
   "id": "c66fd371",
   "metadata": {},
   "source": [
    "4. Перевернуть вектор (первый элемент становится последним)"
   ]
  },
  {
   "cell_type": "code",
   "execution_count": 15,
   "id": "0884ebbd",
   "metadata": {},
   "outputs": [
    {
     "name": "stdout",
     "output_type": "stream",
     "text": [
      "[10 11 12 13 14 15 16 17 18 19 20 21 22 23 24 25 26 27 28 29 30 31 32 33\n",
      " 34 35 36 37 38 39 40 41 42 43 44 45 46 47 48 49]\n",
      "[49 48 47 46 45 44 43 42 41 40 39 38 37 36 35 34 33 32 31 30 29 28 27 26\n",
      " 25 24 23 22 21 20 19 18 17 16 15 14 13 12 11 10]\n"
     ]
    }
   ],
   "source": [
    "vector = np.arange(10, 50, 1)\n",
    "print(vector)\n",
    "print(vector[::-1])"
   ]
  },
  {
   "cell_type": "markdown",
   "id": "a3a4cb15",
   "metadata": {},
   "source": [
    "5. Создайте массив 5x5 со случайными значениями и найдите среднее значение и медиану для каждой строки"
   ]
  },
  {
   "cell_type": "code",
   "execution_count": 20,
   "id": "60256c25",
   "metadata": {},
   "outputs": [
    {
     "name": "stdout",
     "output_type": "stream",
     "text": [
      "[[0.23212549 0.46635181 0.06139273 0.46536321 0.68648467]\n",
      " [0.67982181 0.52149072 0.71338948 0.75078001 0.22243998]\n",
      " [0.27279788 0.57969788 0.25696091 0.24407401 0.7717782 ]\n",
      " [0.9488586  0.54462986 0.51618121 0.04941923 0.21915387]\n",
      " [0.62079141 0.42171011 0.51321304 0.91474055 0.14177736]]\n",
      "=====\n",
      "[0.38234358 0.5775844  0.42506177 0.45564855 0.5224465 ]\n",
      "=====\n",
      "[0.46536321 0.67982181 0.27279788 0.51618121 0.51321304]\n"
     ]
    }
   ],
   "source": [
    "A = np.random.random((5,5))\n",
    "print(A)\n",
    "print(\"=====\")\n",
    "sr_znach = np.mean(A, axis=1)\n",
    "median = np.median(A, axis=1)\n",
    "print(sr_znach)\n",
    "print(\"=====\")\n",
    "print(median)"
   ]
  },
  {
   "cell_type": "markdown",
   "id": "ee02ae2c",
   "metadata": {},
   "source": [
    "6. Преобразуйте одномерный массив из 27 элементов целого типа в трехмерный (3x3x3)"
   ]
  },
  {
   "cell_type": "code",
   "execution_count": 25,
   "id": "c3271c9f",
   "metadata": {},
   "outputs": [
    {
     "name": "stdout",
     "output_type": "stream",
     "text": [
      "[ 0  1  2  3  4  5  6  7  8  9 10 11 12 13 14 15 16 17 18 19 20 21 22 23\n",
      " 24 25 26]\n"
     ]
    }
   ],
   "source": [
    "a = np.array([x for x in range(27)])\n",
    "print(a)"
   ]
  },
  {
   "cell_type": "code",
   "execution_count": 24,
   "id": "d3151c71",
   "metadata": {},
   "outputs": [
    {
     "name": "stdout",
     "output_type": "stream",
     "text": [
      "[[[ 0  1  2]\n",
      "  [ 3  4  5]\n",
      "  [ 6  7  8]]\n",
      "\n",
      " [[ 9 10 11]\n",
      "  [12 13 14]\n",
      "  [15 16 17]]\n",
      "\n",
      " [[18 19 20]\n",
      "  [21 22 23]\n",
      "  [24 25 26]]]\n"
     ]
    }
   ],
   "source": [
    "b = a.reshape((3,3,3))\n",
    "print(b)"
   ]
  },
  {
   "cell_type": "markdown",
   "id": "e3bad8e7",
   "metadata": {},
   "source": [
    "7. Преобразуйте все элементы массива numpy из типа данных float в integer"
   ]
  },
  {
   "cell_type": "code",
   "execution_count": 29,
   "id": "29e474ac",
   "metadata": {},
   "outputs": [
    {
     "name": "stdout",
     "output_type": "stream",
     "text": [
      "[[3.5  1.9  8.45]\n",
      " [4.7  7.9  1.9 ]]\n"
     ]
    }
   ],
   "source": [
    "a = np.array([[3.5, 1.9, 8.45], [4.7, 7.9, 1.9]])\n",
    "print(a)"
   ]
  },
  {
   "cell_type": "code",
   "execution_count": 30,
   "id": "be7c498a",
   "metadata": {},
   "outputs": [
    {
     "name": "stdout",
     "output_type": "stream",
     "text": [
      "[[3 1 8]\n",
      " [4 7 1]]\n"
     ]
    }
   ],
   "source": [
    "b = a.astype(int)\n",
    "print(b)"
   ]
  },
  {
   "cell_type": "markdown",
   "id": "b8b96818",
   "metadata": {},
   "source": [
    "8. Преобразуйте двоичный массив numpy [[1, 0, 0], [1, 1, 1],  [0, 0, 1]] (содержащий только 0 и 1) в логический массив numpy"
   ]
  },
  {
   "cell_type": "code",
   "execution_count": 33,
   "id": "1ba9b37c",
   "metadata": {},
   "outputs": [
    {
     "name": "stdout",
     "output_type": "stream",
     "text": [
      "[[1 0 0]\n",
      " [1 1 1]\n",
      " [0 0 1]]\n"
     ]
    }
   ],
   "source": [
    "a = np.array([[1, 0, 0], [1, 1, 1],  [0, 0, 1]])\n",
    "print(a)"
   ]
  },
  {
   "cell_type": "code",
   "execution_count": 34,
   "id": "fc0f410e",
   "metadata": {},
   "outputs": [
    {
     "name": "stdout",
     "output_type": "stream",
     "text": [
      "[[ True False False]\n",
      " [ True  True  True]\n",
      " [False False  True]]\n"
     ]
    }
   ],
   "source": [
    "b = a.astype(bool)\n",
    "print(b)"
   ]
  },
  {
   "cell_type": "markdown",
   "id": "2e29bca1",
   "metadata": {},
   "source": [
    "9. Расположите 2 массива numpy горизонтально (hstack), т.е. 2 массива, имеющих одинаковое 1-е измерение (количество строк в 2D-массивах)"
   ]
  },
  {
   "cell_type": "code",
   "execution_count": 38,
   "id": "85022b72",
   "metadata": {},
   "outputs": [],
   "source": [
    "a1 = np.array([[1,2,3], [4,5,6]])\n",
    "a2 = np.array([[7,8,9], [10,11,12]])"
   ]
  },
  {
   "cell_type": "code",
   "execution_count": 40,
   "id": "59e0e588",
   "metadata": {},
   "outputs": [
    {
     "name": "stdout",
     "output_type": "stream",
     "text": [
      "[[ 1  2  3  7  8  9]\n",
      " [ 4  5  6 10 11 12]]\n"
     ]
    }
   ],
   "source": [
    "a3 = np.hstack((a1, a2))\n",
    "print(a3)"
   ]
  },
  {
   "cell_type": "markdown",
   "id": "94718a01",
   "metadata": {},
   "source": [
    "10. Расположите 2 массива numpy вертикально (vstack), т.е. 2 массива, имеющие одинаковое последнее измерение (количество столбцов в 2D-массивах)"
   ]
  },
  {
   "cell_type": "code",
   "execution_count": 35,
   "id": "da19bfd1",
   "metadata": {},
   "outputs": [],
   "source": [
    "a1 = np.array([[1,2],\n",
    " [3,4],\n",
    " [5,6]])\n",
    "\n",
    "a2 = np.array([[7,8],\n",
    " [9,10],\n",
    " [10,11]])"
   ]
  },
  {
   "cell_type": "code",
   "execution_count": 37,
   "id": "a7215a42",
   "metadata": {},
   "outputs": [
    {
     "name": "stdout",
     "output_type": "stream",
     "text": [
      "[[ 1  2]\n",
      " [ 3  4]\n",
      " [ 5  6]\n",
      " [ 7  8]\n",
      " [ 9 10]\n",
      " [10 11]]\n"
     ]
    }
   ],
   "source": [
    "a3 = np.vstack((a1, a2))\n",
    "print(a3)"
   ]
  },
  {
   "cell_type": "markdown",
   "id": "2da0ed17",
   "metadata": {},
   "source": [
    "11. Из 2 массивов numpy извлеките индексы, в которых совпадают элементы (np.where)"
   ]
  },
  {
   "cell_type": "code",
   "execution_count": 41,
   "id": "9067ab95",
   "metadata": {},
   "outputs": [],
   "source": [
    "a = np.array([1,2,3,4,5])\n",
    "b = np.array([1,3,2,4,5])"
   ]
  },
  {
   "cell_type": "code",
   "execution_count": 45,
   "id": "db588189",
   "metadata": {},
   "outputs": [
    {
     "name": "stdout",
     "output_type": "stream",
     "text": [
      "(array([0, 3, 4], dtype=int64),)\n"
     ]
    }
   ],
   "source": [
    "c = np.where(a == b)\n",
    "print(c)"
   ]
  },
  {
   "cell_type": "markdown",
   "id": "fe3b0a62",
   "metadata": {},
   "source": [
    "12. Выведите результат умножения 2 матриц (в виде массива numpy)"
   ]
  },
  {
   "cell_type": "code",
   "execution_count": 49,
   "id": "2f7ec1fc",
   "metadata": {},
   "outputs": [],
   "source": [
    "a = np.array([[1,2,3], \n",
    " [4,5,6], \n",
    " [7,8,9]])\n",
    "\n",
    "b = np.array([[2,3,4], \n",
    " [5,6,7], \n",
    " [8,9,10]])"
   ]
  },
  {
   "cell_type": "code",
   "execution_count": 50,
   "id": "70a81615",
   "metadata": {},
   "outputs": [
    {
     "name": "stdout",
     "output_type": "stream",
     "text": [
      "[[ 36  42  48]\n",
      " [ 81  96 111]\n",
      " [126 150 174]]\n"
     ]
    }
   ],
   "source": [
    "c = np.dot(a,b)\n",
    "print(c)"
   ]
  },
  {
   "cell_type": "code",
   "execution_count": 57,
   "id": "c810cd60",
   "metadata": {},
   "outputs": [
    {
     "name": "stdout",
     "output_type": "stream",
     "text": [
      "[[ 36  42  48]\n",
      " [ 81  96 111]\n",
      " [126 150 174]]\n"
     ]
    }
   ],
   "source": []
  },
  {
   "cell_type": "markdown",
   "id": "ea2f28fe",
   "metadata": {},
   "source": [
    "13. Выведите транспонированную матрицу"
   ]
  },
  {
   "cell_type": "code",
   "execution_count": 59,
   "id": "998be8ca",
   "metadata": {},
   "outputs": [
    {
     "name": "stdout",
     "output_type": "stream",
     "text": [
      "[[1 2 3]\n",
      " [4 5 6]\n",
      " [7 8 9]]\n"
     ]
    }
   ],
   "source": [
    "a = np.array([[1,2,3], \n",
    " [4,5,6], \n",
    " [7,8,9]])\n",
    "print(a)"
   ]
  },
  {
   "cell_type": "code",
   "execution_count": 64,
   "id": "b655308c",
   "metadata": {},
   "outputs": [
    {
     "name": "stdout",
     "output_type": "stream",
     "text": [
      "[[1 4 7]\n",
      " [2 5 8]\n",
      " [3 6 9]]\n"
     ]
    }
   ],
   "source": [
    "t = np.transpose(a)\n",
    "print(t)"
   ]
  },
  {
   "cell_type": "markdown",
   "id": "626917af",
   "metadata": {},
   "source": [
    "14. Вычислите синус массива углов (в радианах) с помощью NumPy"
   ]
  },
  {
   "cell_type": "code",
   "execution_count": 128,
   "id": "23865e63",
   "metadata": {},
   "outputs": [
    {
     "name": "stdout",
     "output_type": "stream",
     "text": [
      "[3.14 1.57 6.28]\n"
     ]
    }
   ],
   "source": [
    "angles = np.array([3.14, 3.14/2, 6.28])\n",
    "print(angles)"
   ]
  },
  {
   "cell_type": "code",
   "execution_count": null,
   "id": "be13fc0e",
   "metadata": {},
   "outputs": [],
   "source": []
  },
  {
   "cell_type": "markdown",
   "id": "04302674",
   "metadata": {},
   "source": [
    "15. Отсортировать вектор"
   ]
  },
  {
   "cell_type": "code",
   "execution_count": 71,
   "id": "7cd71a15",
   "metadata": {},
   "outputs": [
    {
     "name": "stdout",
     "output_type": "stream",
     "text": [
      "[0.98814807 0.45145542 0.30674149 0.95975706 0.57814437 0.94697656\n",
      " 0.53232802 0.63624753 0.44027832 0.80622364]\n"
     ]
    }
   ],
   "source": [
    "v = np.random.random(size=[10])\n",
    "print(v)"
   ]
  },
  {
   "cell_type": "code",
   "execution_count": 72,
   "id": "46dc5330",
   "metadata": {},
   "outputs": [
    {
     "name": "stdout",
     "output_type": "stream",
     "text": [
      "[0.30674149 0.44027832 0.45145542 0.53232802 0.57814437 0.63624753\n",
      " 0.80622364 0.94697656 0.95975706 0.98814807]\n"
     ]
    }
   ],
   "source": [
    "sorti = np.sort(v)\n",
    "print(sorti)"
   ]
  },
  {
   "cell_type": "markdown",
   "id": "dbbf1bf9",
   "metadata": {},
   "source": [
    "16. Проверить, одинаковы ли два NumPy массива"
   ]
  },
  {
   "cell_type": "code",
   "execution_count": 133,
   "id": "b65dd305",
   "metadata": {},
   "outputs": [],
   "source": [
    "a = np.array([1,2,3,4,5])\n",
    "b = np.array([1,2,3,4,5])"
   ]
  },
  {
   "cell_type": "code",
   "execution_count": 134,
   "id": "6e01dca9",
   "metadata": {},
   "outputs": [
    {
     "name": "stdout",
     "output_type": "stream",
     "text": [
      "True\n"
     ]
    }
   ],
   "source": [
    "c = np.array_equal(a,b)\n",
    "print(c)"
   ]
  },
  {
   "cell_type": "markdown",
   "id": "9255bcd2",
   "metadata": {},
   "source": [
    "17. В одномерном массиве заменить максимальный элемент на ноль"
   ]
  },
  {
   "cell_type": "code",
   "execution_count": 93,
   "id": "ba7973d3",
   "metadata": {},
   "outputs": [],
   "source": [
    "Z = np.random.random(10)"
   ]
  },
  {
   "cell_type": "code",
   "execution_count": 101,
   "id": "1a912d24",
   "metadata": {},
   "outputs": [
    {
     "name": "stdout",
     "output_type": "stream",
     "text": [
      "[0.65831232 0.97715073 0.940277   0.31231885 0.57592682 0.99838719\n",
      " 0.93001088 0.04328497 0.55466374 0.93997321]\n"
     ]
    }
   ],
   "source": [
    "print(Z)"
   ]
  },
  {
   "cell_type": "code",
   "execution_count": 103,
   "id": "ec321b6c",
   "metadata": {},
   "outputs": [
    {
     "name": "stdout",
     "output_type": "stream",
     "text": [
      "5\n",
      "[0.65831232 0.97715073 0.940277   0.31231885 0.57592682 0.\n",
      " 0.93001088 0.04328497 0.55466374 0.93997321]\n"
     ]
    }
   ],
   "source": [
    "maxel = np.argmax(Z)\n",
    "print(maxel)\n",
    "Z[maxel] = 0\n",
    "print(Z)"
   ]
  },
  {
   "cell_type": "markdown",
   "id": "8d5f7cb8",
   "metadata": {},
   "source": [
    "18. Замените все нечетные числа одномерного массива на -1."
   ]
  },
  {
   "cell_type": "code",
   "execution_count": 114,
   "id": "d299d6b2",
   "metadata": {},
   "outputs": [
    {
     "name": "stdout",
     "output_type": "stream",
     "text": [
      "[0 1 2 3 4 5 6 7 8 9]\n"
     ]
    }
   ],
   "source": [
    "arr = np.array([0, 1, 2, 3, 4, 5, 6, 7, 8, 9])\n",
    "print(arr)"
   ]
  },
  {
   "cell_type": "code",
   "execution_count": 113,
   "id": "2fab7f7e",
   "metadata": {},
   "outputs": [
    {
     "name": "stdout",
     "output_type": "stream",
     "text": [
      "[ 0 -1  2 -1  4 -1  6 -1  8 -1]\n"
     ]
    }
   ],
   "source": [
    "arr = np.where(arr % 2 != 0, -1, arr)\n",
    "print(arr)"
   ]
  },
  {
   "cell_type": "markdown",
   "id": "adb25062",
   "metadata": {},
   "source": [
    "19. Замените все элементы в массиве NumPy больше 30 или меньше 5 новым значением 10 "
   ]
  },
  {
   "cell_type": "code",
   "execution_count": 122,
   "id": "4738135c",
   "metadata": {},
   "outputs": [
    {
     "name": "stdout",
     "output_type": "stream",
     "text": [
      "[ 0  1 20  3  4  5  6 -7  8 90]\n"
     ]
    }
   ],
   "source": [
    "arr = np.array([0, 1, 20, 3, 4, 5, 6, -7, 8, 90])\n",
    "print(arr)"
   ]
  },
  {
   "cell_type": "code",
   "execution_count": 120,
   "id": "4f364c2c",
   "metadata": {},
   "outputs": [
    {
     "name": "stdout",
     "output_type": "stream",
     "text": [
      "[10 10 20 10 10  5  6 10  8 10]\n"
     ]
    }
   ],
   "source": [
    "arr = np.where((arr > 30) | (arr < 5), 10, arr)\n",
    "print(arr)"
   ]
  },
  {
   "cell_type": "markdown",
   "id": "aacdf990",
   "metadata": {},
   "source": [
    "20. Отсортируйте двумерный массив по столбцам"
   ]
  },
  {
   "cell_type": "code",
   "execution_count": 125,
   "id": "cc0f95e5",
   "metadata": {},
   "outputs": [
    {
     "name": "stdout",
     "output_type": "stream",
     "text": [
      "[[11  5  3]\n",
      " [ 4 15  6]\n",
      " [ 7  8 19]]\n"
     ]
    }
   ],
   "source": [
    "a = np.array([[11,5,3], \n",
    " [4,15,6], \n",
    " [7,8,19]])\n",
    "print(a)"
   ]
  },
  {
   "cell_type": "code",
   "execution_count": 126,
   "id": "eb55870e",
   "metadata": {},
   "outputs": [
    {
     "name": "stdout",
     "output_type": "stream",
     "text": [
      "[[ 4  5  3]\n",
      " [ 7  8  6]\n",
      " [11 15 19]]\n"
     ]
    }
   ],
   "source": [
    "sort_a = np.sort(a, axis=0)\n",
    "print(sort_a)"
   ]
  }
 ],
 "metadata": {
  "kernelspec": {
   "display_name": "Python 3 (ipykernel)",
   "language": "python",
   "name": "python3"
  },
  "language_info": {
   "codemirror_mode": {
    "name": "ipython",
    "version": 3
   },
   "file_extension": ".py",
   "mimetype": "text/x-python",
   "name": "python",
   "nbconvert_exporter": "python",
   "pygments_lexer": "ipython3",
   "version": "3.10.9"
  }
 },
 "nbformat": 4,
 "nbformat_minor": 5
}
